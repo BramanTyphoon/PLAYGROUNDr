{
 "cells": [
  {
   "cell_type": "markdown",
   "metadata": {},
   "source": [
    "# Model training for PLAYGROUNDr\n",
    "This notebook contains the procedures used to develop the methods and models applied in the PLAYGROUNDr web app to identify park amenities from Google Reviews. It demonstrates the text cleaning procedures, database wrangling, and feature engineering necessary to build the models. It also shows the process used to choose which model and word embedding to use, and validation.\n",
    "\n",
    "### Due to Google terms of service, the data used in this notebook cannot be shared, and this notebook is meant to be viewed statically.\n",
    "\n",
    "## Data wrangling\n",
    "Let's start the database wrangling by importing all of the packages we'll need to handle data."
   ]
  },
  {
   "cell_type": "code",
   "execution_count": 1,
   "metadata": {},
   "outputs": [],
   "source": [
    "import xml.etree.cElementTree as et # Allows parsing of the Toronto database, which is in XML\n",
    "import insight_project_util as util # Contains a function to parse the Toronto base specifically\n",
    "import numpy as np\n",
    "import pandas as pd\n",
    "import json\n",
    "from fuzzywuzzy import fuzz # A package that allows fuzzy matching of strings, to master the different databases\n",
    "from matplotlib import pyplot as plt\n",
    "# I also define a personal style, mainly to increase the font size of plot labels\n",
    "plt.style.use(['basic_size_style.mplstyle','basic_color_style.mplstyle'])"
   ]
  },
  {
   "cell_type": "code",
   "execution_count": 5,
   "metadata": {},
   "outputs": [],
   "source": [
    "# Filenames for databases and output model files\n",
    "on_database_name = \"toronto-facilities-data.xml\"\n",
    "full_database_name = \"database_20200121.json\"\n",
    "google_review_database_name = 'continuous_google_reviews_all_20200120.json'\n",
    "model_file_name = \"data/classifier.mod\"\n",
    "tfidf_file_name = \"data/TFIDFmodel.mod\"\n",
    "SVD_file_name = \"data/SVDmodel.mod\""
   ]
  },
  {
   "cell_type": "code",
   "execution_count": 6,
   "metadata": {},
   "outputs": [],
   "source": [
    "# Load in the toronto database\n",
    "on_dict = {\n",
    "        'name' : 'LocationName', # There is poor matching between database names and names in the Toronto Parks and Rec website\n",
    "        'city' : 'PostalCode',\n",
    "        'state' : 'state',\n",
    "        'playground' : ['Playground','Splash Pad'],\n",
    "        'splashpad' : 'Splash Pad',\n",
    "        'pool' : ['Outdoor Pool','Pool','Indoor Pool','Wading Pool'],\n",
    "        'rink' : 'Outdoor Rink',\n",
    "        'restroom' : 'Washroom', # Some exploratory checking shows that the database misses some washrooms\n",
    "        'sports_field' : ['Sport Field','Ball Diamond','Outdoor Track'],\n",
    "        'dog_park' : 'Dogs Off-Leash Area',\n",
    "        'skate_park' : 'Skateboard Park',\n",
    "        'beach' : [] # There are no ocean beaches in Toronto\n",
    "        }\n",
    "\n",
    "# The Toronto, ON database comes in a less-than-ideal XML format that requires\n",
    "# additional pre-processing to get in the same format (boolean amenity columns)\n",
    "# as the other databases.\n",
    "on_database_initial = util.torontoXML2df(et.parse(on_database_name).getroot())\n",
    "# Make the 'FacilityDisplayName' categorical var into a series of dummy vars\n",
    "on_dummies = on_database_initial['FacilityDisplayName'].str.get_dummies()\n",
    "# Create a new database with only one entry per park\n",
    "on_database = pd.DataFrame(columns=['LocationName','PostalCode']+list(on_dummies.columns))\n",
    "on_database['LocationName'] = on_database_initial['LocationName'].unique()\n",
    "on_database = on_database.set_index('LocationName')\n",
    "# Move data from the entries in on_dummies to on_database\n",
    "for col in on_dummies.columns:\n",
    "    on_database[col] = np.zeros(on_database.shape[0])\n",
    "for ii in np.arange(on_database_initial.shape[0]):\n",
    "    on_database.loc[on_database_initial['LocationName'].iloc[ii],on_database_initial['FacilityDisplayName'].iloc[ii]] \\\n",
    "        += on_dummies[on_database_initial['FacilityDisplayName'].iloc[ii]].iloc[ii]\n",
    "    on_database.loc[on_database_initial['LocationName'].iloc[ii],'PostalCode'] = on_database_initial['PostalCode'].iloc[ii]\n",
    "on_database_initial = on_database.reset_index()"
   ]
  },
  {
   "cell_type": "raw",
   "metadata": {},
   "source": [
    "Originally, I was working on four different park databases and so had to do a lot to clean the databases and uniformitize their data. I found through spot checks that at least two of the non-Toronto databases were missing amenity information. Thus, I used those databases to query Google and Yelp for park reviews, but did not use their amenity listings to train any of the predictive models. Only the Toronto database gets used for predictive modeling.\n",
    "\n",
    "The following code extracts Toronto review data from a larger combined database, and extracts all of the reviews from that database to train word embeddings."
   ]
  },
  {
   "cell_type": "code",
   "execution_count": 7,
   "metadata": {},
   "outputs": [],
   "source": [
    "# Add a variable to the database to distinguish from other databases\n",
    "on_database = on_database_initial\n",
    "on_database['state'] = ['on']*on_database.shape[0]\n",
    "\n",
    "# Initialize a new database with cleaned column names and the values from the \n",
    "# old database\n",
    "full_database = pd.DataFrame(columns=on_dict.keys())\n",
    "dbase = on_database\n",
    "keys = on_dict\n",
    "amenity_vars = [col for col in full_database.columns if col!='city' and col!='name' and col!='state']\n",
    "full_database['name'] = dbase[keys['name']]\n",
    "full_database['city'] = dbase[keys['city']]\n",
    "full_database['state'] = dbase[keys['state']]\n",
    "# Only add those variables that we care about, from the Toronto database\n",
    "for col in amenity_vars:\n",
    "    if isinstance(keys[col],list):\n",
    "        if keys[col]:\n",
    "            temp_array = np.zeros(dbase.shape[0])\n",
    "            for item in keys[col]:\n",
    "                temp_array += np.array(dbase[item])\n",
    "        else:\n",
    "            temp_array = np.zeros(full_database.shape[0])\n",
    "    else:\n",
    "        temp_array = np.array(dbase[keys[col]])\n",
    "    full_database[col] = [int(x>0) for x in temp_array]\n",
    "full_database['google_name'] = ['']*full_database.shape[0]\n",
    "full_database['is_type_park'] = np.ones(full_database.shape[0])*np.nan\n",
    "full_database['num_reviews'] = np.ones(full_database.shape[0])*np.nan\n",
    "full_database['reviews'] = ['']*full_database.shape[0]\n",
    "\n",
    "# Load in our database with all of the reviews and attach the reviews to our\n",
    "# database\n",
    "review_database = pd.read_json(full_database_name,orient='records',lines='True')\n",
    "full_database.loc[:,'is_type_park'] = list(review_database.loc[review_database['state']=='on','is_type_park'])\n",
    "full_database.loc[:,'num_reviews'] = list(review_database.loc[review_database['state']=='on','num_reviews'])   \n",
    "full_database.loc[:,'reviews'] = list(review_database.loc[review_database['state']=='on','reviews'])"
   ]
  },
  {
   "cell_type": "markdown",
   "metadata": {},
   "source": [
    "Unfortunately, when querying Google and Yelp for reviews, sometimes the results don't match the query very well. The Google Places API especially likes to confidently return results when they don't find a strong match for the query (you've likely experienced this once or twice while using Google Maps and the first place they pull up has none of the search words in its name or description).\n",
    "\n",
    "The following code analyzes the degree to which the Google place names match the municipal database names, and keeps the reviews only for those that match somewhat."
   ]
  },
  {
   "cell_type": "code",
   "execution_count": 8,
   "metadata": {},
   "outputs": [],
   "source": [
    "# Remove records where google name differs widely from database name\n",
    "# Add the name google places returned, from the output file saved during scraping\n",
    "target_columns = ['name', 'city', 'state'] # Target database column name from which to construct the text query\n",
    "with open(google_review_database_name) as fp:\n",
    "    review_database1 = pd.DataFrame(json.load(fp))\n",
    "\n",
    "name_dict = {}\n",
    "for result in review_database1['reviews']:\n",
    "    if result:\n",
    "        name_dict[result['result']['query']] = result['result']['name']\n",
    "\n",
    "for ii in full_database.index:\n",
    "    query = ' '.join([str(full_database.loc[ii,x]) for x in target_columns])\n",
    "    if query in name_dict.keys():\n",
    "        full_database.loc[ii,'google_name'] = name_dict[query]\n",
    "\n",
    "# Remove records where the retrieved google_name strays too far from database\n",
    "# name\n",
    "out_rows = []\n",
    "for dname, gname in zip(list(full_database.loc[:,'name']),list(full_database.loc[:,'google_name'])):\n",
    "    dname = dname.replace(' cc',' community centre').replace(' crc', 'community recreation centre')\n",
    "    out_rows.append(fuzz.partial_token_set_ratio(dname.lower(),gname.lower()))\n",
    "out_rows = np.array(out_rows)\n",
    "full_database = full_database.loc[(out_rows==14) + (out_rows>=50)]\n",
    "full_database = full_database.reset_index()"
   ]
  },
  {
   "cell_type": "markdown",
   "metadata": {},
   "source": [
    "Finally, we extract the data from the database into variables that can be given directly to text vectorizers and classification models."
   ]
  },
  {
   "cell_type": "code",
   "execution_count": 9,
   "metadata": {},
   "outputs": [
    {
     "data": {
      "image/png": "[encoded data removed]",
      "text/plain": [
       "<Figure size 432x288 with 1 Axes>"
      ]
     },
     "metadata": {
      "needs_background": "light"
     },
     "output_type": "display_data"
    }
   ],
   "source": [
    "# Process the text data into model input and corpus\n",
    "amenity_vars = ['playground', 'sports_field','pool','splashpad','rink','dog_park']\n",
    "y = np.array(full_database.loc[:,amenity_vars])\n",
    "X = list(full_database['reviews'])\n",
    "\n",
    "# Plot the distribution of amenities in the Toronto dataset\n",
    "fig, ax = plt.subplots()\n",
    "ax.grid = True\n",
    "ax.barh(np.arange(6),np.sum(np.array(full_database.loc[:,amenity_vars]), axis=0))\n",
    "ax.set_yticks(np.arange(6))\n",
    "ax.set_yticklabels(['Playground','Sports field','Pool','Splash pad','Ice rink','Dog park'])\n",
    "ax.invert_yaxis()\n",
    "ax.set_xlabel('Count')\n",
    "plt.show()"
   ]
  },
  {
   "cell_type": "markdown",
   "metadata": {},
   "source": [
    "## Word embedding development\n",
    "So far we have cleaned the data a little bit and collected it into useful objects. Next, we have to deep clean and vectorize the text data. Three .)methods are applied to vectorize the data:\n",
    "1. Bag of words with unigrams\n",
    "2. Term frequency-Inverse document frequency (TF-IDF) with unigrams and bigrams\n",
    "3. Word2Vec (actually, the FastText variant)"
   ]
  },
  {
   "cell_type": "code",
   "execution_count": 10,
   "metadata": {},
   "outputs": [],
   "source": [
    "# Import packages for the modeling portion\n",
    "from gensim.models import FastText #FastText can provide vectors for out-of-vocab words\n",
    "from sklearn.model_selection import cross_validate, GridSearchCV # Utilities for cross-validation and hyperparameter tuning\n",
    "from sklearn.naive_bayes import GaussianNB # Naive Bayes classifier\n",
    "from sklearn.feature_extraction.text import TfidfVectorizer\n",
    "from sklearn.linear_model import LogisticRegressionCV\n",
    "from sklearn.ensemble import RandomForestClassifier\n",
    "from sklearn.decomposition import TruncatedSVD # To reduce the number of TF-IDF features, we try latent semantic analysis\n",
    "from nltk.stem import WordNetLemmatizer # Reduces words to their basic form\n",
    "from sklearn import metrics\n",
    "from collections import defaultdict\n",
    "import re\n",
    "from nltk.corpus import stopwords # Common words to remove before analysis"
   ]
  },
  {
   "cell_type": "code",
   "execution_count": 11,
   "metadata": {},
   "outputs": [],
   "source": [
    "# Let's define the various word embedding tools we want to test\n",
    "# Let's remove stop words and needless punctuation and lemmatize the words\n",
    "REPLACE_BY_SPACE_RE = re.compile('[/(){}\\[\\]\\|@,;\\.\\n]')\n",
    "BAD_SYMBOLS_RE = re.compile('[^0-9a-z ]')\n",
    "STOPWORDS = set(stopwords.words('english'))\n",
    "lemmatizer = WordNetLemmatizer()\n",
    "def text_prepare(text):\n",
    "    text = text.lower()\n",
    "    text = re.sub(REPLACE_BY_SPACE_RE,' ',text)# replace REPLACE_BY_SPACE_RE symbols by space in text\n",
    "    text = re.sub(BAD_SYMBOLS_RE, '',text)# delete symbols which are in BAD_SYMBOLS_RE from text\n",
    "#    text = ' '.join([x for x in text.split() if x not in STOPWORDS])# delete stopwords from text and don't lemmatize\n",
    "    text = ' '.join([lemmatizer.lemmatize(x) for x in text.split() if x not in STOPWORDS])# delete stopwords from text and lemmatize\n",
    "    return text\n",
    "\n",
    "# Clean review strings and generate test and training datasets\n",
    "X_vector_train = []\n",
    "for review in list(review_database['reviews']):\n",
    "    for rev in review.split(r'|||'):\n",
    "        clean = re.split('[.!?;]',rev)\n",
    "        X_vector_train += [text_prepare(sent.replace('/n',' ')).split() for sent in clean if sent]\n",
    "\n",
    "X_vector_train_tfidf = [text_prepare(x) for x in list(review_database['reviews'])]\n",
    "\n",
    "# Clean the reviews and then remove reviews that have been emptied by the \n",
    "# cleaning\n",
    "X = [text_prepare(x) for x in X]\n",
    "y = np.array([y[ii,:] for ii in full_database.index if X[ii]])\n",
    "X = [x for x in X if x]\n",
    "\n",
    "# Perform an 80/20 train/test split on the data\n",
    "testinds = np.random.choice(len(X),round(0.2*len(X)))\n",
    "traininds = [x for x in range(len(X)) if x not in testinds]\n",
    "X_train = np.array(X)[traininds]\n",
    "y_train = y[traininds,:]\n",
    "X_test = np.array(X)[testinds]\n",
    "y_test = y[testinds,:]"
   ]
  },
  {
   "cell_type": "markdown",
   "metadata": {},
   "source": [
    "The first vectorizer we try is a bag of words model. Normally, bag of words generates a vector of word counts (integers) with length equal to the vocabulary size. Our vocabulary size is huge, so we reduce the number of features by selecting only the first 2000. Additionally, we make the data a little more amenable to the Gaussian Naive Bayes classifier, and variable length reviews, by dividing the word counts by the total number of words in each review. This way, long and short reviews should have similar magnitude vector values."
   ]
  },
  {
   "cell_type": "code",
   "execution_count": 12,
   "metadata": {},
   "outputs": [],
   "source": [
    "N = 2000 #Number of most popular words to keep in the bag of words model\n",
    "def bag_of_words_dict(N,all_data):\n",
    "    \n",
    "    # Derive raw word counts for each word in the dataset\n",
    "    word_freq = defaultdict(int)\n",
    "    for sent in X_vector_train:\n",
    "        for word in sent:\n",
    "            word_freq[word] += 1\n",
    "    \n",
    "    # Sort the words based on frequency\n",
    "    word_freq = sorted(word_freq, key=word_freq.get, reverse=True)\n",
    "    \n",
    "    # Create a list and a dict for converting between indices in a bag-of-words\n",
    "    # vector and the word represented at each index\n",
    "    index2word = word_freq[:N]\n",
    "    word2index = dict()\n",
    "    for ii in range(len(index2word)):    \n",
    "        word2index[index2word[ii]] = ii\n",
    "       \n",
    "    return (index2word, word2index)\n",
    "\n",
    "index2word, word2index = bag_of_words_dict(N,X_vector_train)\n",
    "\n",
    "def bag_of_words_vectorize(words,word2index):\n",
    "    vect = np.zeros([1,len(word2index.keys())])\n",
    "    for word in words.split():\n",
    "        if word in word2index.keys():\n",
    "            vect[0,word2index[word]] += 1\n",
    "    return vect\n",
    "\n",
    "X_train_bow = np.array([bag_of_words_vectorize(review,word2index)/len(review.split()) for review in X_train]).squeeze()\n",
    "X_test_bow = np.array([bag_of_words_vectorize(review,word2index)/len(review.split()) for review in X_test]).squeeze()"
   ]
  },
  {
   "cell_type": "markdown",
   "metadata": {},
   "source": [
    "Next we develop at TF-IDF vectorizer, which penalizes the most frequent tokens, because if a token appears in every review, it's probably not useful for distinguishing amenities that vary between reviews. To reduce the number of TF-IDF features, we perform truncated SVD. This is basically a Principal Component Analysis (PCA) that works well on sparse data. Often, when TF-IDF is coupled with truncated SVD it's termed Latent Semantic Analysis and is useful for comparing documents. Here it's just used to engineer features."
   ]
  },
  {
   "cell_type": "code",
   "execution_count": 13,
   "metadata": {},
   "outputs": [],
   "source": [
    "# Now generate a tfidf vectorizer with bigrams\n",
    "tfidf_vectorizer = TfidfVectorizer(input='content',ngram_range=(1,2),max_df=0.9,min_df=5)\n",
    "tfidf_vectorizer = tfidf_vectorizer.fit(X_vector_train_tfidf)\n",
    "dim_limiter = TruncatedSVD(n_components=2000)\n",
    "dim_limiter.fit(tfidf_vectorizer.transform(X_vector_train_tfidf))\n",
    "X_train_tfidf = dim_limiter.transform(tfidf_vectorizer.transform(X_train))\n",
    "X_test_tfidf = dim_limiter.transform(tfidf_vectorizer.transform(X_test))"
   ]
  },
  {
   "cell_type": "markdown",
   "metadata": {},
   "source": [
    "As a final attempt to reduce the number of features, we'll try a method that retains a lot of the context in the words while using a very small feature vector. We can use FastText, a version of Word2Vec.  Note, in this version we generate a 128-length vector, less than the number of samples we're using to train most of the amenities. However, I also tried 256 and 512-length versions that produced negigibly better results. Thus, I stick with the smaller vectors, which are less likely to overload your computer's memory."
   ]
  },
  {
   "cell_type": "code",
   "execution_count": 14,
   "metadata": {},
   "outputs": [
    {
     "name": "stderr",
     "output_type": "stream",
     "text": [
      "/home/bramante/anaconda3/lib/python3.7/site-packages/ipykernel_launcher.py:25: DeprecationWarning: Call to deprecated `__getitem__` (Method will be removed in 4.0.0, use self.wv.__getitem__() instead).\n"
     ]
    }
   ],
   "source": [
    "## Train the word2vec model\n",
    "# Let's create a basic word2vec model using our full review corpus\n",
    "# Parameters\n",
    "vector_size = 128\n",
    "window_size = 5\n",
    "train_epochs = 5\n",
    "\n",
    "w2v_model = FastText(min_count=5,\n",
    "                     window=window_size,\n",
    "                     size=vector_size,\n",
    "                     workers=4)\n",
    "w2v_model.build_vocab(X_vector_train)\n",
    "w2v_model.train(X_vector_train,total_examples=w2v_model.corpus_count,epochs=train_epochs)\n",
    "w2v_model.init_sims(replace=True)\n",
    "\n",
    "\n",
    "# Let's vectorize X by applying the vectorizer to each word and summing over\n",
    "# each review, then normalize number of reviews\n",
    "\n",
    "def w2v_vectorize(X,model):\n",
    "    X_vect = np.zeros([len(X),model.trainables.layer1_size])\n",
    "    for ii in np.arange(len(X)):\n",
    "        temp = np.zeros(vector_size)\n",
    "        for word in X[ii].split():\n",
    "            temp += w2v_model[word]\n",
    "        X_vect[ii,:] = temp / len(X[ii].split())\n",
    "    return X_vect\n",
    "X_train_w2v = w2v_vectorize(X_train,w2v_model)\n",
    "X_test_w2v = w2v_vectorize(X_test,w2v_model)"
   ]
  },
  {
   "cell_type": "markdown",
   "metadata": {},
   "source": [
    "## Model development\n",
    "Now that we have three different word embeddings, I decided to try three different models on each word embedding:\n",
    "1. Naive Bayes\n",
    "2. Logistic regression\n",
    "3. Random forest\n",
    "\n",
    "Naive Bayes is one of the classic NLP algorithms because it produces relatively good classification power with small training sample sizes, essentially no hyperparameter tuning, and little computational resources.\n",
    "\n",
    "Logistic regression is also one of the most basic classifiers in our toolkit, with a tunable regularization parameter that's going to be very important to prevent overfitting on our thousands-of-words features vectors.\n",
    "\n",
    "Random forest is a more sophisticated classification algorithm that takes a lot of computational resources to train but can produce superior results.\n",
    "\n",
    "For each of these models, we perform 5-fold cross-validation on the training set only, to tune hyperparameters. After tuning, we compare models using the mean cross-validation score for the tuned model. The 20% test set is held in reserve to validate the model we finally decide upon."
   ]
  },
  {
   "cell_type": "code",
   "execution_count": 17,
   "metadata": {},
   "outputs": [],
   "source": [
    "\n",
    "## How about we start building models on top of these embeddings? Let's use \n",
    "# f2score as our metric\n",
    "f2_score = metrics.make_scorer(metrics.fbeta_score,beta=0.5)  \n",
    "num_Cs = 20 #Number of regularization parameters to try in range 1e-4:1e4\n",
    "\n",
    "# For each amenity, train a separate logistic regression and do a search of\n",
    "# the optimal regularization parameter\n",
    "bow_lrc = []\n",
    "bow_lrc_f2 = []\n",
    "bow_lrc_auc = []\n",
    "bow_lrc_prec = []\n",
    "for ii in range(y_train.shape[1]):\n",
    "    lrc = LogisticRegressionCV(cv=5, Cs=num_Cs,class_weight='balanced',solver='liblinear',max_iter=1000,dual=True,scoring=f2_score, refit=True, n_jobs=2)\n",
    "    lrc.fit(X_train_bow,y_train[:,ii])\n",
    "    bow_lrc_f2.append(lrc.score(X_train_bow,y_train[:,ii]))\n",
    "    bow_lrc_auc.append(metrics.roc_auc_score(y_train[:,ii],lrc.predict_proba(X_train_bow)[:,1]))\n",
    "    bow_lrc_prec.append(metrics.precision_score(y_train[:,ii],lrc.predict(X_train_bow)))\n",
    "    bow_lrc.append(lrc)\n",
    "\n",
    "tfidf_lrc = []\n",
    "tfidf_lrc_f2 = []\n",
    "tfidf_lrc_auc = []\n",
    "tfidf_lrc_prec = []\n",
    "for ii in range(y_train.shape[1]):\n",
    "    lrc = LogisticRegressionCV(cv=5, Cs=num_Cs,class_weight='balanced',solver='liblinear',max_iter=1000,dual=True,scoring=f2_score, refit=True, n_jobs=2)\n",
    "    lrc.fit(X_train_tfidf,y_train[:,ii])\n",
    "    tfidf_lrc_f2.append(lrc.score(X_train_tfidf,y_train[:,ii]))\n",
    "    tfidf_lrc_auc.append(metrics.roc_auc_score(y_train[:,ii],lrc.predict_proba(X_train_tfidf)[:,1]))\n",
    "    tfidf_lrc_prec.append(metrics.precision_score(y_train[:,ii],lrc.predict(X_train_tfidf)))\n",
    "    tfidf_lrc.append(lrc)\n",
    "    \n",
    "w2v_lrc = []\n",
    "w2v_lrc_f2 = []\n",
    "w2v_lrc_auc = []\n",
    "w2v_lrc_prec = []\n",
    "for ii in range(y_train.shape[1]):\n",
    "    lrc = LogisticRegressionCV(cv=5, Cs=num_Cs,class_weight='balanced',solver='liblinear',max_iter=1000,dual=True,scoring=f2_score, refit=True, n_jobs=2)\n",
    "    lrc.fit(X_train_w2v,y_train[:,ii])\n",
    "    w2v_lrc_f2.append(lrc.score(X_train_w2v,y_train[:,ii]))\n",
    "    w2v_lrc_auc.append(metrics.roc_auc_score(y_train[:,ii],lrc.predict_proba(X_train_w2v)[:,1]))\n",
    "    w2v_lrc_prec.append(metrics.precision_score(y_train[:,ii],lrc.predict(X_train_w2v)))\n",
    "    w2v_lrc.append(lrc)"
   ]
  },
  {
   "cell_type": "code",
   "execution_count": 18,
   "metadata": {},
   "outputs": [],
   "source": [
    "# Let's generate Naive Bayes' classifiers.\n",
    "scoring = {\n",
    "           'f2':f2_score, \n",
    "           'auc' : metrics.make_scorer(metrics.roc_auc_score), \n",
    "           'prec' : metrics.make_scorer(metrics.precision_score)\n",
    "           }\n",
    "bow_cnb = []\n",
    "bow_cnb_f2 = []\n",
    "bow_cnb_auc = []\n",
    "bow_cnb_prec = []\n",
    "for ii in range(y_train.shape[1]):\n",
    "    cnb = GaussianNB()\n",
    "    cnbcv = cross_validate(cnb,X_train_bow,y_train[:,ii],cv=5,scoring=scoring, n_jobs=2)\n",
    "    bow_cnb_f2.append(np.mean(cnbcv['test_f2']))\n",
    "    bow_cnb_auc.append(np.mean(cnbcv['test_auc']))\n",
    "    bow_cnb_prec.append(np.mean(cnbcv['test_prec']))\n",
    "    \n",
    "tfidf_cnb = []\n",
    "tfidf_cnb_f2 = []\n",
    "tfidf_cnb_auc = []\n",
    "tfidf_cnb_prec = []\n",
    "for ii in range(y_train.shape[1]):\n",
    "    cnb = GaussianNB()\n",
    "    cnbcv = cross_validate(cnb,X_train_tfidf,y_train[:,ii],cv=5,scoring=scoring, n_jobs=2)\n",
    "    tfidf_cnb_f2.append(np.mean(cnbcv['test_f2']))\n",
    "    tfidf_cnb_auc.append(np.mean(cnbcv['test_auc']))\n",
    "    tfidf_cnb_prec.append(np.mean(cnbcv['test_prec']))\n",
    "    \n",
    "w2v_cnb = []\n",
    "w2v_cnb_f2 = []\n",
    "w2v_cnb_auc = []\n",
    "w2v_cnb_prec = []\n",
    "for ii in range(y_train.shape[1]):\n",
    "    cnb = GaussianNB()\n",
    "    cnbcv = cross_validate(cnb,X_train_w2v,y_train[:,ii],cv=5,scoring=scoring, n_jobs=2)\n",
    "    w2v_cnb_f2.append(np.mean(cnbcv['test_f2']))\n",
    "    w2v_cnb_auc.append(np.mean(cnbcv['test_auc']))\n",
    "    w2v_cnb_prec.append(np.mean(cnbcv['test_prec']))"
   ]
  },
  {
   "cell_type": "code",
   "execution_count": 19,
   "metadata": {},
   "outputs": [],
   "source": [
    "# What about Random Forest\n",
    "    # Parameters to search through using GridSearchCV\n",
    "params = {\n",
    "        'max_depth' : [5,10,20,50],\n",
    "        'n_estimators' : [100,1000,2000,5000]\n",
    "        }\n",
    "\n",
    "#Bag of words first\n",
    "bow_rfc = []\n",
    "bow_rfc_f2 = []\n",
    "bow_rfc_auc = []\n",
    "bow_rfc_prec = []\n",
    "for ii in range(y_train.shape[1]):\n",
    "    gcv = GridSearchCV(RandomForestClassifier(class_weight='balanced'),params,cv=5,n_jobs=2,scoring=scoring,refit='f2')\n",
    "    gcv.fit(X_train_bow,y_train[:,ii])\n",
    "    metric_ind = np.argmax(gcv.cv_results_['rank_test_f2']==1)\n",
    "    bow_rfc.append(gcv.best_estimator_)\n",
    "    bow_rfc_f2.append(gcv.cv_results_['mean_test_f2'][metric_ind])\n",
    "    bow_rfc_auc.append(gcv.cv_results_['mean_test_auc'][metric_ind])\n",
    "    bow_rfc_prec.append(gcv.cv_results_['mean_test_prec'][metric_ind])\n",
    "    \n",
    "# TF-IDF\n",
    "tfidf_rfc = []\n",
    "tfidf_rfc_f2 = []\n",
    "tfidf_rfc_auc = []\n",
    "tfidf_rfc_prec = []\n",
    "for ii in range(y_train.shape[1]):\n",
    "    gcv = GridSearchCV(RandomForestClassifier(class_weight='balanced'),params,cv=5,n_jobs=2,scoring=scoring,refit='f2')\n",
    "    gcv.fit(X_train_tfidf,y_train[:,ii])\n",
    "    metric_ind = np.argmax(gcv.cv_results_['rank_test_f2']==1)\n",
    "    tfidf_rfc.append(gcv.best_estimator_)\n",
    "    tfidf_rfc_f2.append(gcv.cv_results_['mean_test_f2'][metric_ind])\n",
    "    tfidf_rfc_auc.append(gcv.cv_results_['mean_test_auc'][metric_ind])\n",
    "    tfidf_rfc_prec.append(gcv.cv_results_['mean_test_prec'][metric_ind])\n",
    "\n",
    "#W2V\n",
    "w2v_rfc = []\n",
    "w2v_rfc_f2 = []\n",
    "w2v_rfc_auc = []\n",
    "w2v_rfc_prec = []\n",
    "for ii in range(y_train.shape[1]):\n",
    "    gcv = GridSearchCV(RandomForestClassifier(class_weight='balanced'),params,cv=5,n_jobs=2,scoring=scoring,refit='f2')\n",
    "    gcv.fit(X_train_w2v,y_train[:,ii])\n",
    "    metric_ind = np.argmax(gcv.cv_results_['rank_test_f2']==1)\n",
    "    w2v_rfc.append(gcv.best_estimator_)\n",
    "    w2v_rfc_f2.append(gcv.cv_results_['mean_test_f2'][metric_ind])\n",
    "    w2v_rfc_auc.append(gcv.cv_results_['mean_test_auc'][metric_ind])\n",
    "    w2v_rfc_prec.append(gcv.cv_results_['mean_test_prec'][metric_ind])"
   ]
  },
  {
   "cell_type": "markdown",
   "metadata": {},
   "source": [
    "After tuning all of the models and calculating their precision, AUC, and f2 (or f0.5) score, we compare the models. It turns out that the Logistic regression based on TF-IDF performs best. Its performance decreases slightly on the test set, which could indicate a degree of over-fitting, but the test set precision is still better than that for the Naive Bayes and random forest models. Also, as we will see, the Bag of Words models appear to have a much greater over-fitting problem."
   ]
  },
  {
   "cell_type": "code",
   "execution_count": 20,
   "metadata": {},
   "outputs": [
    {
     "data": {
      "text/plain": [
       "Text(0.5, 0, 'AUC')"
      ]
     },
     "execution_count": 20,
     "metadata": {},
     "output_type": "execute_result"
    },
    {
     "data": {
      "image/png": "[encoded data removed]",
      "text/plain": [
       "<Figure size 432x288 with 1 Axes>"
      ]
     },
     "metadata": {
      "needs_background": "light"
     },
     "output_type": "display_data"
    },
    {
     "data": {
      "image/png": "[encoded data removed]",
      "text/plain": [
       "<Figure size 432x288 with 1 Axes>"
      ]
     },
     "metadata": {
      "needs_background": "light"
     },
     "output_type": "display_data"
    },
    {
     "data": {
      "image/png": "[encoded data removed]",
      "text/plain": [
       "<Figure size 432x288 with 1 Axes>"
      ]
     },
     "metadata": {
      "needs_background": "light"
     },
     "output_type": "display_data"
    }
   ],
   "source": [
    "# Plot the average precision of each modeling method\n",
    "barwidth = 0.25\n",
    "w2v_prec = [np.mean(w2v_lrc_prec),np.mean(w2v_cnb_prec),np.mean(w2v_rfc_prec)]\n",
    "tfidf_prec = [np.mean(tfidf_lrc_prec),np.mean(tfidf_cnb_prec),np.mean(tfidf_rfc_prec)]\n",
    "bow_prec = [np.mean(bow_lrc_prec),np.mean(bow_cnb_prec),np.mean(bow_rfc_prec)]\n",
    "\n",
    "fig, ax = plt.subplots()\n",
    "yticks = np.arange(3)\n",
    "yticks2 = yticks + barwidth\n",
    "yticks3 = yticks2 + barwidth\n",
    "ax.barh(yticks,bow_prec,height=barwidth,label='Bag of words')\n",
    "ax.barh(yticks2,tfidf_prec,height=barwidth,label='TF-IDF')\n",
    "ax.barh(yticks3,w2v_prec,height=barwidth,label='Word2Vec')\n",
    "ax.set_yticks(yticks2)\n",
    "ax.set_yticklabels(['Logistic regression', 'Naive Bayes', 'Random Forest'])\n",
    "ax.invert_yaxis()\n",
    "ax.set_xlabel('Mean precision across amenities')\n",
    "ax.legend(bbox_to_anchor=(1.05,1))\n",
    "\n",
    "# Now let's plot test set precision for each class\n",
    "amenity_names = ['Playground','Sports field','Pool','Splash pad','Ice rink','Dog park']\n",
    "winning_prec = [metrics.precision_score(y_test[:,ii],tfidf_lrc[ii].predict(X_test_tfidf)) for ii in range(len(amenity_vars))]\n",
    "fig, ax = plt.subplots()\n",
    "barwidth = 0.5\n",
    "yticks = np.arange(len(winning_prec))\n",
    "ax.barh(yticks,winning_prec, height=barwidth)\n",
    "ax.set_yticks(yticks)\n",
    "ax.set_yticklabels(amenity_names)\n",
    "ax.invert_yaxis()\n",
    "ax.set_xlabel('Precision')\n",
    "    \n",
    "# Now let's plot test set auc for each class\n",
    "winning_auc = [metrics.roc_auc_score(y_test[:,ii],tfidf_lrc[ii].predict_proba(X_test_tfidf)[:,1]) for ii in range(len(amenity_vars))]\n",
    "fig, ax = plt.subplots()\n",
    "barwidth = 0.5\n",
    "yticks = np.arange(len(winning_prec))\n",
    "ax.barh(yticks,winning_auc, height=barwidth)\n",
    "ax.set_yticks(yticks)\n",
    "ax.set_yticklabels(amenity_names)\n",
    "ax.invert_yaxis()\n",
    "ax.set_xlabel('AUC')"
   ]
  },
  {
   "cell_type": "markdown",
   "metadata": {},
   "source": [
    "But what words are driving the predictions most? Since we transformed the TF-IDF data tp reduce the number of dimensions, we can't look at those models, but we can probably get a good idea by looking at the bag of words models that performed similarly."
   ]
  },
  {
   "cell_type": "code",
   "execution_count": 26,
   "metadata": {},
   "outputs": [
    {
     "data": {
      "image/png": "[encoded data removed]",
      "text/plain": [
       "<Figure size 432x288 with 3 Axes>"
      ]
     },
     "metadata": {
      "needs_background": "light"
     },
     "output_type": "display_data"
    },
    {
     "data": {
      "image/png": "[encoded data removed]",
      "text/plain": [
       "<Figure size 432x288 with 3 Axes>"
      ]
     },
     "metadata": {
      "needs_background": "light"
     },
     "output_type": "display_data"
    }
   ],
   "source": [
    "num_words = 10 # Number of words to plot\n",
    "fig, ax = plt.subplots(1,3)\n",
    "fig.tight_layout(pad=3)\n",
    "for ii in range(3):\n",
    "    yticks = np.arange(num_words)\n",
    "    sort_ind = np.argsort(-bow_lrc[ii].coef_)\n",
    "    sorted_coef = bow_lrc[ii].coef_[0,sort_ind]\n",
    "    yticklabels = [index2word[x] for x in sort_ind[0,:num_words].flatten().tolist()]\n",
    "    ax[ii].barh(yticks,sorted_coef[0,:num_words]/sorted_coef[0,0])\n",
    "    ax[ii].set_yticks(yticks)\n",
    "    ax[ii].set_yticklabels(yticklabels)\n",
    "    ax[ii].invert_yaxis()\n",
    "    ax[ii].set_title(amenity_names[ii])\n",
    "    if ii == 1:\n",
    "        ax[ii].set_xlabel('Relative feature weight')\n",
    "\n",
    "\n",
    "fig, ax = plt.subplots(1,3)\n",
    "fig.tight_layout(pad=3)\n",
    "for ii in np.arange(3,6,1):\n",
    "    yticks = np.arange(num_words)\n",
    "    sort_ind = np.argsort(-bow_lrc[ii].coef_)\n",
    "    sorted_coef = bow_lrc[ii].coef_[0,sort_ind]\n",
    "    yticklabels = [index2word[x] for x in sort_ind[0,:num_words].flatten().tolist()]\n",
    "    ax[ii-3].barh(yticks,sorted_coef[0,:num_words]/sorted_coef[0,0])\n",
    "    ax[ii-3].set_yticks(yticks)\n",
    "    ax[ii-3].set_yticklabels(yticklabels)\n",
    "    ax[ii-3].invert_yaxis()\n",
    "    ax[ii-3].set_title(amenity_names[ii])\n",
    "    if ii-3 == 1:\n",
    "        ax[ii-3].set_xlabel('Relative feature weight')"
   ]
  },
  {
   "cell_type": "markdown",
   "metadata": {},
   "source": [
    "Some of the highest words make sense and probably have strong discriminative power, but some do not. For example, \"park\" is the highest-weighted token for Playgrounds, but its use is probably not restricted to reviews of just those parks that playgrounds. Similarly, the word \"also\" is supposed to be pretty predictive of Sports field, which seems not reasonable (unless their descriptions are only included in reviews as an after-thought). The distribution of coefficient weights for the different amenities is also telling. Aside from \"park\", the first ten Playground terms are all weighted within a factor of two of each other. Similarly for the first ten words in Sports Field. However, for Pool, the word \"pool\" receives a much higher weight than the other first ten words, which are thereafter similar in magnitude. This could indicate that for some amenities like Pool, the logistic regression collapses to a keyword search.\n",
    "\n",
    "As mentioned briefly before, the fact that the bag of words (BOW) model puts so much emphasis on words seemingly unrelated to the amenities they predict could indicate significat overfitting. And if we compare the BOW regularization parameters to the model trained with TF-IDF vectors, we see that the BOW model was optimized with much weaker (but greater in magnitude) regularization parameters, potentially signalling that over-fitting was an issue even with cross-validation:"
   ]
  },
  {
   "cell_type": "code",
   "execution_count": 22,
   "metadata": {},
   "outputs": [
    {
     "data": {
      "text/plain": [
       "[array([4.2813324]),\n",
       " array([78.47599704]),\n",
       " array([78.47599704]),\n",
       " array([0.00483293]),\n",
       " array([1438.44988829]),\n",
       " array([78.47599704])]"
      ]
     },
     "execution_count": 22,
     "metadata": {},
     "output_type": "execute_result"
    }
   ],
   "source": [
    "[mod.C_ for mod in bow_lrc]"
   ]
  },
  {
   "cell_type": "code",
   "execution_count": 23,
   "metadata": {},
   "outputs": [
    {
     "data": {
      "text/plain": [
       "[array([1.62377674]),\n",
       " array([1.62377674]),\n",
       " array([1.62377674]),\n",
       " array([0.08858668]),\n",
       " array([29.76351442]),\n",
       " array([0.61584821])]"
      ]
     },
     "execution_count": 23,
     "metadata": {},
     "output_type": "execute_result"
    }
   ],
   "source": [
    "[mod.C_ for mod in tfidf_lrc]"
   ]
  },
  {
   "cell_type": "markdown",
   "metadata": {},
   "source": [
    "As it turns out, the cross-validated TF-IDF + SVD + logistic regression model performs nearly the same as an earlier model that did not use SVD, so I stuck with the earlier model, which just takes the 2000 most frequent terms. N.B. By taking the most frequent terms from the TF-IDF, I've limited the usefulness of the inverse document frequency weighting, but empirically it still works."
   ]
  }
 ],
 "metadata": {
  "kernelspec": {
   "display_name": "Python 3",
   "language": "python",
   "name": "python3"
  },
  "language_info": {
   "codemirror_mode": {
    "name": "ipython",
    "version": 3
   },
   "file_extension": ".py",
   "mimetype": "text/x-python",
   "name": "python",
   "nbconvert_exporter": "python",
   "pygments_lexer": "ipython3",
   "version": "3.7.4"
  }
 },
 "nbformat": 4,
 "nbformat_minor": 4
}
